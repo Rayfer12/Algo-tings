{
  "nbformat": 4,
  "nbformat_minor": 0,
  "metadata": {
    "colab": {
      "provenance": []
    },
    "kernelspec": {
      "name": "python3",
      "display_name": "Python 3"
    },
    "language_info": {
      "name": "python"
    }
  },
  "cells": [
    {
      "cell_type": "markdown",
      "source": [],
      "metadata": {
        "id": "atqJxkfSLu71"
      }
    },
    {
      "cell_type": "markdown",
      "source": [
        "Task 1"
      ],
      "metadata": {
        "id": "UXOXTvMnLvTH"
      }
    },
    {
      "cell_type": "code",
      "source": [
        "Lloyd = {\n",
        " \"name\": \"Lloyd\",\n",
        " \"homework\": [90.0,97.0,75.0,92.0],\n",
        " \"quizzes\": [88.0,40.0,94.0],\n",
        " \"tests\": [75.0,90.0]\n",
        "}\n",
        "alice = {\n",
        " \"name\": \"Alice\",\n",
        " \"homework\": [100.0, 92.0, 98.0, 100.0],\n",
        " \"quizzes\": [82.0, 83.0, 91.0],\n",
        " \"tests\": [89.0, 97.0]\n",
        "}\n",
        "tyler = {\n",
        " \"name\": \"Tyler\",\n",
        " \"homework\": [0.0, 87.0, 75.0, 22.0],\n",
        " \"quizzes\": [0.0, 75.0, 78.0],\n",
        " \"tests\": [100.0, 100.0]\n",
        "}\n",
        "def average(list):\n",
        "    total = float(sum(list))\n",
        "    return total/len(list)\n",
        "\n",
        "def get_average(student):\n",
        "    homework = average(student[\"homework\"])\n",
        "    quizzes = average(student[\"quizzes\"])\n",
        "    tests = average(student[\"tests\"])\n",
        "    return round(0.1*homework + 0.3*quizzes + 0.6*tests,2)  #10% 30% 60%\n",
        "def get_letter_grade(score):\n",
        "    if score >= 90:\n",
        "        return \"A\"\n",
        "    elif score >= 80:\n",
        "        return \"B\"\n",
        "    elif score >= 70:\n",
        "        return \"C\"\n",
        "    elif score >= 60:\n",
        "        return \"D\"\n",
        "    else:\n",
        "        return \"F\"\n",
        "\n",
        "\n",
        "\n",
        "Students = [Lloyd, alice, tyler]\n",
        "for i in Students:                               #i is just all the students,so its easier than one by one\n",
        "    print(\"name: \" + i[\"name\"])\n",
        "    print(\"Homework: \" + str(i['homework']))\n",
        "    print(i['quizzes'])\n",
        "    print(i['tests'])\n",
        "    print(\"Average: \" + str(get_average(i)))\n",
        "    print(get_letter_grade(get_average(i)))"
      ],
      "metadata": {
        "id": "5aeAwqGfLwZ_"
      },
      "execution_count": null,
      "outputs": []
    },
    {
      "cell_type": "markdown",
      "source": [
        "Task 2"
      ],
      "metadata": {
        "id": "e2PQ4Bf9MzEN"
      }
    },
    {
      "cell_type": "code",
      "source": [
        "course_numbers= (\"COP 2510\", \"EGN 3000L\", \"MAC 2281\", \"MUH 3016\", \"PHY 2048\")   #tuple thingy\n",
        "#dictionary 1\n",
        "course_name_numbers ={\n",
        "    \"COP 2510\" : 'Programming Concept',\n",
        "    \"EGN 3000L\": 'Foundations of Engineering Lab',\n",
        "    \"MAC 2281\" : 'Calculus I',\n",
        "    \"MUH 3016\" : 'Survey of Jazz',\n",
        "    \"PHY 2048\" : 'General Physics I'\n",
        "      }\n",
        "\n",
        "#dictionary 2\n",
        "course_instructors_numbers = {\n",
        "    \"COP 2510\" : 'Z. Beasley',\n",
        "    \"EGN 3000L\": 'J. Anderson',\n",
        "    \"MAC 2281\" : 'A. Makaryus',\n",
        "    \"MUH 3016\" : 'A. Wilkins',\n",
        "    \"PHY 2048\" : 'G. Pradhan'\n",
        "      }\n",
        "\n",
        "#dictionary 3\n",
        "class_times_numbers = {\n",
        "    \"COP 2510\" : \"MW 12:30pm : 1:45pm\",\n",
        "    \"EGN 3000L\": \"TR 11:00am : 12:15pm\",\n",
        "    \"MAC 2281\" : \"MW 9:30am : 10:45am\",\n",
        "    \"MUH 3016\" : \"online asynchronous\",\n",
        "    \"PHY 2048\" : \"TR 5:00pm : 6:15pm\"\n",
        "}\n",
        "\n",
        "#the search funtion using def,if,else\n",
        "def searchCourse():\n",
        "    course = input(\"Enter the course number: \")\n",
        "    if course in course_numbers:\n",
        "        print(f\"course details:\\nCourse Name: {course_name_numbers[course]}\\nInstructor: {course_instructors_numbers[course]}\\nClass Times: {class_times_numbers[course]}\")\n",
        "    else:\n",
        "        print(\"Course is not found or miss typed.\")\n",
        "\n",
        "searchCourse()"
      ],
      "metadata": {
        "id": "mXS5RpuGM1qr"
      },
      "execution_count": null,
      "outputs": []
    },
    {
      "cell_type": "markdown",
      "source": [
        "task 3"
      ],
      "metadata": {
        "id": "UqFUwmFaNCQg"
      }
    },
    {
      "cell_type": "code",
      "source": [
        "days_of_the_week = ('Sunday', 'Monday', 'Tuesday', 'Wednesday', 'Thursday', 'Friday', 'Saturday')\n",
        "\n",
        "\n",
        "salesdata = []\n",
        "\n",
        "\n",
        "for day in days_of_the_week:\n",
        "    while True:\n",
        "        try:\n",
        "            sales = float(input(f\"Enter the sales for {day}: $\"))\n",
        "            if sales >= 0:\n",
        "                salesdata.append(sales)\n",
        "                break\n",
        "            else:\n",
        "                print(\"Input was invalid. Sales should be greater than or equal to 0.\")\n",
        "        except ValueError:\n",
        "            print(\"Input was invalid. Please enter a valid number.\")\n",
        "\n",
        "#total\n",
        "total_sales = sum(salesdata)\n",
        "\n",
        "#min and max\n",
        "minimum_sale = min(salesdata)\n",
        "maximum_sale = max(salesdata)\n",
        "\n",
        "\n",
        "def format_currency(amount):\n",
        "    return f\"${amount:,.2f}\"\n",
        "\n",
        "#printing data\n",
        "print(f\"total sales: {format_currency(total_sales)}\")\n",
        "print(f\"minimum sale: {format_currency(minimum_sale)}\")\n",
        "print(f\"maximum sale: {format_currency(maximum_sale)}\")\n"
      ],
      "metadata": {
        "id": "Z6UW5Um0NDVG"
      },
      "execution_count": null,
      "outputs": []
    },
    {
      "cell_type": "markdown",
      "source": [
        "task 4\n"
      ],
      "metadata": {
        "id": "oJGi6oGYNErP"
      }
    },
    {
      "cell_type": "code",
      "source": [
        "morsecode ={\n",
        "    'A': '.-', 'B': '-...', 'C': '-.-.', 'D': '-..', 'E': '.', 'F': '..-.', 'G': '--.', 'H': '....',\n",
        "    'I': '..', 'J': '.---', 'K': '-.-', 'L': '.-..', 'M': '--', 'N': '-.', 'O': '---', 'P': '.--.',\n",
        "    'Q': '--.-', 'R': '.-.', 'S': '...', 'T': '-', 'U': '..-', 'V': '...-', 'W': '.--', 'X': '-..-',\n",
        "    'Y': '-.--', 'Z': '--..',\n",
        "    '0': '-----', '1': '.----', '2': '..---', '3': '...--', '4': '....-', '5': '.....',\n",
        "    '6': '-....', '7': '--...', '8': '---..', '9': '----.',\n",
        "    ',': '--..--', '.': '.-.-.-', '?': '..--..' }\n",
        "\n",
        "#converter\n",
        "def convert(text):\n",
        "    morse_code = \"\"\n",
        "    for char in text:\n",
        "        if char.upper() in morsecode:\n",
        "            morse_code += morsecode[char.upper()] + \"\"\n",
        "        else:\n",
        "            morse_code += \" \"\n",
        "    return morse_code\n",
        "\n",
        "userinput = input(\"input for conversion: \")               #how to mmake the input for the user\n",
        "\n",
        "print(convert(userinput))"
      ],
      "metadata": {
        "id": "_QipM5wcNGBq"
      },
      "execution_count": null,
      "outputs": []
    }
  ]
}